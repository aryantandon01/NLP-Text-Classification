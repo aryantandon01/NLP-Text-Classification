{
 "cells": [
  {
   "cell_type": "code",
   "execution_count": 1,
   "metadata": {},
   "outputs": [
    {
     "name": "stderr",
     "output_type": "stream",
     "text": [
      "[nltk_data] Downloading package wordnet to\n",
      "[nltk_data]     C:\\Users\\aryan\\AppData\\Roaming\\nltk_data...\n",
      "[nltk_data]   Package wordnet is already up-to-date!\n",
      "[nltk_data] Downloading package stopwords to\n",
      "[nltk_data]     C:\\Users\\aryan\\AppData\\Roaming\\nltk_data...\n",
      "[nltk_data]   Package stopwords is already up-to-date!\n",
      "[nltk_data] Downloading package punkt to\n",
      "[nltk_data]     C:\\Users\\aryan\\AppData\\Roaming\\nltk_data...\n",
      "[nltk_data]   Package punkt is already up-to-date!\n"
     ]
    },
    {
     "name": "stdout",
     "output_type": "stream",
     "text": [
      "[' angry', ' adequate', ' surprise', ' attracted', ' sad', ' demoralized', ' sad', ' happy', ' happy', ' happy', ' happy', ' happy', ' attracted', ' attached', ' powerless', ' happy', ' free', ' average', ' happy', ' loved', ' happy', ' happy', ' sad', ' ecstatic', ' sad', ' happy', ' ecstatic', ' adorable', ' discomfort', ' adorable', ' ecstatic', ' fine', ' ecstatic', ' ecstatic']\n",
      "Counter({' happy': 10, ' ecstatic': 5, ' sad': 4, ' attracted': 2, ' adorable': 2, ' angry': 1, ' adequate': 1, ' surprise': 1, ' demoralized': 1, ' attached': 1, ' powerless': 1, ' free': 1, ' average': 1, ' loved': 1, ' discomfort': 1, ' fine': 1})\n"
     ]
    },
    {
     "data": {
      "text/plain": [
       "<Figure size 640x480 with 1 Axes>"
      ]
     },
     "metadata": {},
     "output_type": "display_data"
    }
   ],
   "source": [
    "import string\n",
    "from collections import Counter\n",
    "\n",
    "import matplotlib.pyplot as plt\n",
    "\n",
    "\n",
    "import nltk\n",
    "nltk.download('wordnet')\n",
    "import nltk\n",
    "nltk.download('stopwords')\n",
    "import nltk\n",
    "nltk.download('punkt')\n",
    "from nltk.corpus import stopwords\n",
    "from nltk.sentiment.vader import SentimentIntensityAnalyzer\n",
    "from nltk.stem import WordNetLemmatizer\n",
    "from nltk.tokenize import word_tokenize\n",
    "\n",
    "text = open('review.txt', encoding='utf-8').read()\n",
    "lower_case = text.lower()\n",
    "cleaned_text = lower_case.translate(str.maketrans('', '', string.punctuation))\n",
    "\n",
    "# Using word_tokenize because it's faster than split()\n",
    "tokenized_words = word_tokenize(cleaned_text, \"english\")\n",
    "\n",
    "# Removing Stop Words\n",
    "final_words = []\n",
    "for word in tokenized_words:\n",
    "    if word not in stopwords.words('english'):\n",
    "        final_words.append(word)\n",
    "\n",
    "# Lemmatization - From plural to single + Base form of a word (example better-> good)\n",
    "lemma_words = []\n",
    "for word in final_words:\n",
    "    word = WordNetLemmatizer().lemmatize(word)\n",
    "    lemma_words.append(word)\n",
    "\n",
    "emotion_list = []\n",
    "with open('labelled dataset.txt', 'r') as file:\n",
    "    for line in file:\n",
    "        clear_line = line.replace(\"\\n\", '').replace(\",\", '').replace(\"'\", '').strip()\n",
    "        word, emotion = clear_line.split(':')\n",
    "\n",
    "        if word in lemma_words:\n",
    "            emotion_list.append(emotion)\n",
    "\n",
    "print(emotion_list)\n",
    "w = Counter(emotion_list)\n",
    "print(w)\n",
    "\n",
    "def sentiment_analyse(sentiment_text):\n",
    "    sentiment_analyse(cleaned_text)\n",
    "\n",
    "fig, ax1 = plt.subplots()\n",
    "ax1.bar(w.keys(), w.values())\n",
    "fig.autofmt_xdate()\n",
    "plt.savefig('graph.png')\n",
    "plt.show()"
   ]
  },
  {
   "cell_type": "code",
   "execution_count": 2,
   "metadata": {},
   "outputs": [
    {
     "name": "stdout",
     "output_type": "stream",
     "text": [
      "Requirement already satisfied: textblob in c:\\programdata\\anaconda3\\lib\\site-packages (0.17.1)\n",
      "Requirement already satisfied: nltk>=3.1; python_version >= \"3\" in c:\\programdata\\anaconda3\\lib\\site-packages (from textblob) (3.4.5)\n",
      "Requirement already satisfied: six in c:\\programdata\\anaconda3\\lib\\site-packages (from nltk>=3.1; python_version >= \"3\"->textblob) (1.12.0)\n"
     ]
    }
   ],
   "source": [
    "!pip install textblob"
   ]
  },
  {
   "cell_type": "code",
   "execution_count": 3,
   "metadata": {},
   "outputs": [],
   "source": [
    "from textblob import TextBlob"
   ]
  },
  {
   "cell_type": "code",
   "execution_count": 4,
   "metadata": {},
   "outputs": [
    {
     "name": "stdout",
     "output_type": "stream",
     "text": [
      "polarity\n",
      "0.26668721115596106\n",
      "overall positive\n"
     ]
    }
   ],
   "source": [
    "testimonial = TextBlob(\"I had a heck of a time watching this movie. I usually like the Marvel films, but this one seems to fall in the pattern that I see way too often these days. At three hours, it is way too long. There is just not enough happening that is capable of sustaining interest in a 3 hour movie. Sometimes, less is more. Brilliant film from start to finish, the first of its kind putting many main characters into one film and it was perfectly balanced and the action was incredible. Great addition to the story and really well done. This remarkable movie easily fulfilled and then exceeded all expectations. I've been waiting for this movie since Sam Jackson's character uttered those famous words after the first Iron Man film... Stark now knows he's not the only superhero in his world and it's as big a treat for our real world as it gets. Seeing the Avenger Initiative in action is as great as I would ever have hoped! Hell, who am I kidding, I've been waiting to see this movie all my life. Who would've thought years ago that ALL these characters could fit in to a film and all of them be done justice? It delivers greatness from scene one and has to be considered the best this genre has EVER produced. Truthfully, as good as some of the previous work has been from every studio, nothing else has come close. That's not hyperbole; I really think most will agree if they see it with an open mind. I loved this movie's depth, heart, humor, gravitas, action, performances, emotion and payoff. I honestly can't wait to see it again with the rest of the world later. Right now, I'm simply basking in the greatness I just witnessed! Are you a fan of epic adventure movies? Then this is your dream come true! Truly this is the ultimate superhero mash-up and it's executed perfectly. Props to the filmmakers for taking the time to design it to be more than just a superhero film packed with action scenes and adding depth to each character. I'm happy to report that everything established in previous movies pays dividends in a big way. It's not that anyone needs to see those other Avenger solo films before seeing this gem but it certainly adds depth and texture to this amazing product. Not having to intro big main characters deeply allows the action to flow but also allows for better development. This also allows them to probe deeper into the character's personalities. This heightens the tension, so often missing from comic-book movies, and adds real weight to the story as well as the action sequences which are thrilling and often mesmerizing. The result is a film that's just flat out exceptional. Of course all the phenomenal heroes got to shine and the story accommodated them all perfectly. What I loved is that Marvel did it again with their main villain. Loki was just so wonderful and complex in this amazing movie. Spurned Loki masterfully dances on the fault lines of villainy and redemption. He always keep people guessing and. Again, that's just shear perfection coming from the god of mischief. He has such a mixture of emotional psychological complexity. You have somebody who's capable of thinking and strategizing at the speed of light, but underneath that is a deep well of pain that at any moment threatens to boil over and Tom Hiddleston plays it like the master he has become. This is Oscar worthy villain performance good. The performances in this movie are as good as any I've ever seen in an adventure film. The great actors say that acting akin to playing tennis. The rally that they play with a new partner is completely different from one to the other. Each of these GREAT actors have such specific talents that it's fun to see them play off each other at different times in this movie. I think Whedon realized this as both director and writer and shuffled things around on purpose to play to strengths. It's just another wonderful aspect of this spectacular movie event. I think that this is the best movie of Marvel's works. Acting, visual effects, the plot (well, about plot there are some exaggerated things), the music. I literally love this film!! The payoff of 4 years and 5 films of buildup and it delivers! The banter between the characters is hilarious, the plot is great, the action is fun. Just a dang fun movie! Grade: A+ 5/5 stars 10/10 I just loved Marvel's Avengers. I thought it was smart and the impressive cast really delivered! This movie works on so many levels and makes you draw on just about all of your emotions. I don't remember when I enjoyed a movie this much! Such cool fantasy but what makes it extra special is following this film after all the other solo efforts from each character. I enjoyed the others films quite a bit but they all delivered something different. Seeing them blend together in Avengers and the sparks that resulted was the extra special treat. Example: They blended the grounded futurist (Tony Stark) with the Norse thunder god and his angry brother in a perfect way. Same could be said for every other character. It all works. In fact, it doesn't just fit, it's a symphony and that dyconomy and difference in characters are what makes it truly great. It's why this movie stands so tall above any other franchise at the moment. Things like Transformers, GI Joe and even Star Trek all operate with monotone restrictions. Avengers covers all angles and delivers depth with its fun. I haven't enjoyed a movie this much in years if not ever! Ever since the beginning of the film, I was so amazed and happy That I was at the premier of the movie. Very good acting from all the main characters and good acting from the rest. Great Directing and writing from Joss Whedon too. The cinematography was stunning throughout the whole film.This is a fun action packed film for the whole family to enjoy just like the rest of the Marvel movies but better. The special effects by far are the best for any Marvel movie. The Hulk Looks so much more real. By the way The Hulk made the movie even better. Also, DO NOT SEE THE AVENGERS IN 3D! See the film because you will not be disappointed even if you are not that interested into superhero movies. It has a lot of humor and love, so again SEE IT! I'm not going to spoil anything or get very technical here. I don't usually write reviews. I did so because this movie took me back to my childhood like no other movie did. Sure, it's not intellectually pretentious or groundbreaking from a cinematic or storytelling point of view, but it delivers perfectly. The wit, conflict, adventure, heart and sense of wonder that I once found in my crazy uncle's attic, slumbering inside those weird looking and dusty Marvel Magazines - populated with super-soldiers, handsome flying scientists, Norse gods, green monsters and incredibly hot chicks in black leather - are here. As I grew up, I somehow repressed the idea that there was no such thing as fictional happiness. These characters will never exist, and it sure takes suspension of disbelief to watch them run about. But this movie reminded me of what they made me feel before girls, party nights, college,taxes and other complicated, serious things came along. As the movie ended, I felt overwhelmed by the readjustment to reality as I knew it in my young adult life. I watched this with my 10 year old nephew. I don't know if that makes me the crazy uncle, but it sure was great to be back in that attic, even for a while. I always knew Hulk smashed. Now I know he always will. Each plot of the movie make us curious of what comes next. The direct know how to manage every superheroes and villains in balance, all of them has unique strange. We keep wondering how Iron Man look so cool and why Captain America is a serious patriot. The effect and CGI are also outstanding. And as usual, Marvel will give so many easter eggs for geeks to find out. The success of this movie come up when Iron Man franchise along with Captain America: the first avenger and Thor released previous years. The Avenger can be main contender for best superheroes movies against DC's Dark Knight Rise though I prefer Marvel movies. I suggest all Marvel/superheroes movies lover to watch this movie. period. I don't want to waste more time talking about a movie that I just wasted 2 1/2 hours of my life watching but I feel it's necessary in order to maybe save someone from making the same mistake I just did by watching this stinker. Actually I slept through some of it so there was SOME valuable time spent in the theater. I would have walked out except my girlfriend look like she was enjoying it. This movie just sucked, plain and simple. It's the typical good guys have to save the earth from aliens. It did have all the emotions though.....The dialog was laughable and the acting made me want to cry. Unless you just like seeing buildings getting demolished and people who are impervious to bullets, explosions, and every kind of weapon known to man, stay home and save your money. I've watched better cartoons as a kid. It actually angers me that there are so many people in this world the simply LOVED this movie. This movie was so bad, I may never go to the theater again! Great movie Watching the Marvel heroes meet in one movie. That was amazing Yep, Marvel has done it again but this time to the max! You can rest assured that Avengers is an absolutely amazing movie. I'm so glad Marvel got in to the solo movie making business. Instead of leasing out their characters to other studios, they're making movies themselves and have not missed yet. (Sony pooping on Ghost Rider again this very year is a great reminder of that) Avengers is, without a doubt, their best effort yet! Personally, I think they set the bar leading up to this movie and they just clean blew the bar in to orbit with this movie. I was eagerly waiting for this movie. But after seeing the Marvel movie, Captain America: the first Avenger, Thor and Incredible hulk- I thought that the movie would be not as good as the hype it carried for so many years. But still due to Robert downey jr. i wanted to see this film. OK, i admit it, i was blown away by the movie in terms of Action, and of course Humor. This is so wonderfull movie which i have watched about 10 times. I always like comic based movies and this one did not disappoint. Much action, which is why I watch these movies. There were plenty of Hollywood retard thinking (which I wont mention so not to ruin the people that are not bother by it). Many funny moments and again lots of action. I would of also like if there had been full movies or some more back story on some of the characters but overall the movie was fun to watch. Great use of computer graphics and great sound track. In addition, the plot was not rich (which I think is acceptable in action movies).  Definitely a great movie for anyone that like action flicks. The movie is certainly marvel's best till now and has great effects. Though little childish at times it is very good. As I expected it was one of the best films with descent, comedy parts. The acting was above average and the dialogues were really mind-boggling. It was a bit lengthy but was touching every single minute. The story was very good and the superhero's were described nicely. Bruce Banner very polite when he was not Hulk, Captain America very serious and all that. It was defiantly worth watching and is one of the best superhero films. I am looking ford for the Avengers 2 and I am searching the whole internet for a little glimpse of it. I was not prepared to sit and watch past the first five minutes with all the jerky shakycam going on... Gave me a headache trying to watch it. It seems all you need these days to make a movie, just shake the camera for a couple of hours... Not. The danger with every superhero movie is that it will end up either horrifically unrealistic or unappealing to anyone over the age of ten. I am pleased to say that 'The Avengers' does not fall into either of these pitholes - in fact, it has to be awarded the title of one of the best films of 2012. The actors were all amazingly casted in their respective roles and do an amazing job of creating intriguing and lovable characters. Many of them were reprising roles they had taken on in previous films - Captain America, Thor or Iron Man, for example - so we already had a good idea of how they would perform, but I feel they all exceeded expectations. Robert Downey Jr was incredible as the humorous yet conflicted Tony Stark/ Iron Man, and Chris Evans was brilliant as the confused, out-of-time Steve Rogers/ Captain America. Mark Ruffalo, the newbie of the cast, stepped into the role of Bruce Banner/ Hulk with great skill and dispersed all doubts as to his suitability. On the other side, Tom Hiddleston really has to be congratulated for his convincing and somehow relatable performance as the villain Loki, whose wit and tricks appealed to fans everywhere. Did not live up to my expectations AT ALL. For a movie with such hype, it was very long and the picture was very dark. Too many overly dramatic lines, and the buildup music lasted for practically the whole movie. I usually love superhero movies, but this one was a letdown. I don't know why it got such great ratings. The Iron Man, Thor, Hulk, and Captain America movies were more enjoyable on their own. I thought it would be great to see all these heroes come together, but I think it really just lead to so many main characters that the audience didn't get a chance to understand any of them individually. I wonder when people will understand that they are watching the same movies over and over again with only different heroes... Even without watching the movie an 8 year old can write a summary of it and it would be 90% accurate. Bla bla bla good guys come together bla bla bla they start up pretty good bla bla bla they argue bla bla bla they reunite and kick the villain's ass. How original(!) And this thing applies for 99% of the Marvel movies and about 80% for DC. And there are major logic mistakes also like captain America can protect himself from enemies with a shield not bigger than a large plate. I know it's a super hero movie but, really?It's like bad guys are not even trying. No need to talk about Black Widow... Use your minds people! This movie is great the third best Mcu movie I recommend I recently watched a documentary on how they made The Avengers and it was such a big gamble for them and they certainly did not disappoint. To have a movie with loads of super heroes in and for not to flop is important and this is one of the best films ever made. It is a power packed movie, filled with breathtaking action sequences, emotions, faith, power and most importantly the sarcasm and wit of the Avengers. Very entertaining and a must watch. The Avengers succeeded in successfully creating a cinematic universe, something that had never really been tried before but now is tried too much. This is the only time when it's really worked, and this movie is the reason. The Avengers is incredible. With it's A List Cast of actors and it's incredibly comedic dialogue that sounds cheesy out of context but still works regardless, this film feels like a true comic book movie. It's so fun to see incredible action scenes with all your favorite super heroes of the last 4 years. The Avengers will forever be an achievement of modern film and hopefully people eventually let Marvel do what they do best for years to come\")\n",
    "print(\"polarity\")\n",
    "print(testimonial.sentiment.polarity)\n",
    "sentiment=testimonial.sentiment.polarity\n",
    "if sentiment==0:\n",
    "  print(\"overall neutral\")\n",
    "elif sentiment>0:\n",
    "  print(\"overall positive\")\n",
    "else:\n",
    "  print(\"overall negative\")"
   ]
  },
  {
   "cell_type": "code",
   "execution_count": null,
   "metadata": {},
   "outputs": [],
   "source": []
  }
 ],
 "metadata": {
  "kernelspec": {
   "display_name": "Python 3",
   "language": "python",
   "name": "python3"
  },
  "language_info": {
   "codemirror_mode": {
    "name": "ipython",
    "version": 3
   },
   "file_extension": ".py",
   "mimetype": "text/x-python",
   "name": "python",
   "nbconvert_exporter": "python",
   "pygments_lexer": "ipython3",
   "version": "3.7.4"
  }
 },
 "nbformat": 4,
 "nbformat_minor": 2
}
